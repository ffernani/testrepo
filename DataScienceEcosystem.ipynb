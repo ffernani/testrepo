{
 "cells": [
  {
   "cell_type": "markdown",
   "id": "b625f01a",
   "metadata": {},
   "source": [
    "# Data Science Tools and Ecosystem"
   ]
  },
  {
   "cell_type": "markdown",
   "id": "8f821066",
   "metadata": {},
   "source": [
    "En este cuaderno, se resumen las herramientas y ecosistemas de ciencia de datos."
   ]
  },
  {
   "cell_type": "markdown",
   "id": "70bbd6fd",
   "metadata": {},
   "source": [
    "Algunos de los lenguajes populares que utilizan los científicos de datos son:\n",
    "1. R\n",
    "2. Julia\n",
    "3. Python\n"
   ]
  },
  {
   "cell_type": "markdown",
   "id": "55f7e7ca",
   "metadata": {},
   "source": [
    "Algunas de las bibliotecas comúnmente utilizadas por los científicos de datos incluyen:\n",
    "1. pandas\n",
    "2. numpy\n",
    "3. matplotlib\n",
    "    "
   ]
  },
  {
   "cell_type": "markdown",
   "id": "f26649ff",
   "metadata": {},
   "source": [
    "| Herramientas de Ciencia de Datos | \n",
    "|----------|\n",
    "| Anaconda    | \n",
    "| Spyder    | \n",
    "| Jupyter Notebook   |"
   ]
  },
  {
   "cell_type": "markdown",
   "id": "8d0eef35",
   "metadata": {},
   "source": [
    "### A continuación, se presentan algunos ejemplos de evaluación de expresiones aritméticas en Python"
   ]
  },
  {
   "cell_type": "code",
   "execution_count": 4,
   "id": "cd913c52",
   "metadata": {},
   "outputs": [
    {
     "data": {
      "text/plain": [
       "17"
      ]
     },
     "execution_count": 4,
     "metadata": {},
     "output_type": "execute_result"
    }
   ],
   "source": [
    "#Esta es una expresión aritmética simple para multiplicar y luego sumar enteros\n",
    "(3*4)+5"
   ]
  },
  {
   "cell_type": "code",
   "execution_count": 1,
   "id": "7e8af866",
   "metadata": {},
   "outputs": [
    {
     "data": {
      "text/plain": [
       "3.3333333333333335"
      ]
     },
     "execution_count": 1,
     "metadata": {},
     "output_type": "execute_result"
    }
   ],
   "source": [
    "#Esto convertirá 200 minutos a horas dividiendo por 60\n",
    "200/60"
   ]
  },
  {
   "cell_type": "markdown",
   "id": "f4e1c7fc",
   "metadata": {},
   "source": [
    "**Objetivos:**\n",
    "    \n",
    "    *Listar lenguajes populares para Ciencia de Datos\n",
    "    *Listar bibliotecas para la Ciencia de Datos\n",
    "    *LIstar entornos de trabajo para la ciencia de datos\n",
    "    *Conocer expresiones aritméticas\n",
    "    *Crear comentarios en los notebook\n",
    "    *Crear notebooks\n",
    "    "
   ]
  },
  {
   "cell_type": "markdown",
   "id": "fc3754f2",
   "metadata": {},
   "source": [
    "## Autor\n",
    "Fernando Fernández Valle"
   ]
  },
  {
   "cell_type": "code",
   "execution_count": null,
   "id": "c3d4a8e5",
   "metadata": {},
   "outputs": [],
   "source": []
  }
 ],
 "metadata": {
  "kernelspec": {
   "display_name": "Python 3 (ipykernel)",
   "language": "python",
   "name": "python3"
  },
  "language_info": {
   "codemirror_mode": {
    "name": "ipython",
    "version": 3
   },
   "file_extension": ".py",
   "mimetype": "text/x-python",
   "name": "python",
   "nbconvert_exporter": "python",
   "pygments_lexer": "ipython3",
   "version": "3.10.13"
  }
 },
 "nbformat": 4,
 "nbformat_minor": 5
}
